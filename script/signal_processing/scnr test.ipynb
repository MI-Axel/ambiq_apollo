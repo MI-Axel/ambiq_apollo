{
 "cells": [
  {
   "cell_type": "code",
   "execution_count": 1,
   "metadata": {},
   "outputs": [],
   "source": [
    "import numpy as np\n",
    "from scipy.io import wavfile\n",
    "import os\n",
    "from scipy import integrate\n",
    "import matplotlib.pyplot as plt\n",
    "import pyroomacoustics as pra\n",
    "from pyroomacoustics.denoise import SpectralSub\n",
    "import signal_generator\n"
   ]
  },
  {
   "cell_type": "code",
   "execution_count": null,
   "metadata": {},
   "outputs": [],
   "source": [
    "\"\"\"\n",
    "Prepare input file\n",
    "\"\"\"\n",
    "snr = 4.2         # SNR of input signal.\n",
    "signal_fp = '/Users/axel/KWS/audio/experiment/Alexa_P09_05.wav'\n",
    "noise_fp = '/Users/axel/KWS/audio/speech_dataset_v0_01/_background_noise_/pink_noise.wav'\n",
    "generated_fp = '/Users/axel/KWS/audio/experiment/Alexa_P09_05_noised.wav'\n",
    "filtered_fp = '/Users/axel/KWS/audio/experiment/Alexa_P09_05_filtered.wav'\n",
    "filtered_iw_fp = '/Users/axel/KWS/audio/experiment/Alexa_P09_05_filtered_iw.wav'\n",
    "\n",
    "noisy_signal, signal, noise, fs = signal_generator.create_noisy_signal(signal_fp,\n",
    "                                                          snr=snr,\n",
    "                                                          noise_fp=noise_fp)\n",
    "wavfile.write(generated_fp, fs, noisy_signal.astype(np.float32))\n"
   ]
  },
  {
   "cell_type": "code",
   "execution_count": null,
   "metadata": {},
   "outputs": [],
   "source": [
    "\"\"\"\n",
    "Test and algorithm parameters\n",
    "\"\"\"\n",
    "db_reduc = 40   # Maximum suppression per frequency bin. Large suppresion can result in more musical noise.\n",
    "nfft = 128      # Frame length will be nfft/2 as we will use an STFT with 50% overlap.\n",
    "lookback = 48   # How many frames to look back for the noise floor estimate.\n",
    "beta = 45        # An overestimation factor to \"push\" the suppression towards db_reduc.\n",
    "alpha = 1.2     # An exponential factor to tune the suppresion (see documentation of 'SpectralSub').\n",
    "\n",
    "plot_spec = True\n",
    "\n",
    "\"\"\"\n",
    "Create STFT and SCNR objects\n",
    "\"\"\"\n",
    "hop = nfft // 2\n",
    "window = pra.hann(nfft, flag='asymmetric', length='full')\n",
    "stft = pra.transform.STFT(nfft, hop=hop, analysis_window=window,\n",
    "                          streaming=True)\n",
    "\n",
    "scnr = SpectralSub(nfft, db_reduc, lookback, beta, alpha)\n",
    "lookback_time = hop/fs * lookback\n",
    "print(\"Lookback : %f seconds\" % lookback_time)"
   ]
  },
  {
   "cell_type": "code",
   "execution_count": null,
   "metadata": {},
   "outputs": [],
   "source": [
    "\"\"\"\n",
    "Process as in real-time\n",
    "\"\"\"\n",
    "# collect the processed blocks\n",
    "processed_audio = np.zeros(signal.shape)\n",
    "n = 0\n",
    "while noisy_signal.shape[0] - n >= hop:\n",
    "\n",
    "    # SCNR in frequency domain\n",
    "    stft.analysis(noisy_signal[n:(n+hop), ])\n",
    "    gain_filt = scnr.compute_gain_filter(stft.X)\n",
    "\n",
    "    # back to time domain\n",
    "    processed_audio[n:n+hop, ] = stft.synthesis(gain_filt*stft.X)\n",
    "\n",
    "    # update step\n",
    "    n += hop\n"
   ]
  },
  {
   "cell_type": "code",
   "execution_count": null,
   "metadata": {},
   "outputs": [],
   "source": [
    "wavfile.write(filtered_fp, fs, processed_audio.astype(np.float32))"
   ]
  },
  {
   "cell_type": "code",
   "execution_count": null,
   "metadata": {},
   "outputs": [],
   "source": [
    "signal_norm = signal / np.abs(signal).max()\n",
    "if plot_spec:\n",
    "    min_val = -80\n",
    "    max_val = -40\n",
    "    plt.figure()\n",
    "    plt.subplot(3, 1, 1)\n",
    "    plt.specgram(noisy_signal[:n-hop], NFFT=256, Fs=fs,\n",
    "                 vmin=min_val, vmax=max_val)\n",
    "    plt.title('Noisy Signal')\n",
    "    plt.subplot(3, 1, 2)\n",
    "    plt.specgram(processed_audio[hop:n], NFFT=256, Fs=fs,\n",
    "                 vmin=min_val, vmax=max_val)\n",
    "    plt.title('Denoised Signal')\n",
    "    plt.subplot(3, 1, 3)\n",
    "    plt.specgram(signal_norm[:n-hop], NFFT=256, Fs=fs,\n",
    "                 vmin=min_val, vmax=max_val)\n",
    "    plt.title('Original Signal')\n",
    "    plt.tight_layout(pad=0.5)\n",
    "    plt.show()"
   ]
  },
  {
   "cell_type": "code",
   "execution_count": 2,
   "metadata": {},
   "outputs": [],
   "source": [
    "\"\"\"\n",
    "Prepare input file\n",
    "\"\"\"\n",
    "snr = 4.2         # SNR of input signal.\n",
    "signal_fp = '/Users/axel/KWS/audio/Audio_test_files_NEW/Silence_Test/Silence_Test/utts/US_P09_05_M.wav'\n",
    "noise_fp = '/Users/axel/KWS/audio/Audio_test_files_NEW/Noise/Pub_noisenorm.wav'\n",
    "generated_fp = '/Users/axel/KWS/audio/experiment/Alexa_P09_05_pubnoised.wav'\n",
    "\n",
    "noisy_signal, signal, noise, fs = signal_generator.create_noisy_signal(signal_fp,\n",
    "                                                          snr=snr,\n",
    "                                                          noise_fp=noise_fp)\n",
    "wavfile.write(generated_fp, fs, noisy_signal.astype(np.float32))\n"
   ]
  },
  {
   "cell_type": "code",
   "execution_count": null,
   "metadata": {},
   "outputs": [],
   "source": []
  }
 ],
 "metadata": {
  "kernelspec": {
   "display_name": "Python 3",
   "language": "python",
   "name": "python3"
  },
  "language_info": {
   "codemirror_mode": {
    "name": "ipython",
    "version": 3
   },
   "file_extension": ".py",
   "mimetype": "text/x-python",
   "name": "python",
   "nbconvert_exporter": "python",
   "pygments_lexer": "ipython3",
   "version": "3.7.0"
  }
 },
 "nbformat": 4,
 "nbformat_minor": 2
}
