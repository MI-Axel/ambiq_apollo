{
 "cells": [
  {
   "cell_type": "code",
   "execution_count": 1,
   "metadata": {},
   "outputs": [
    {
     "name": "stdout",
     "output_type": "stream",
     "text": [
      "Train on 6 samples\n",
      "Epoch 1/50\n",
      "6/6 [==============================] - 0s 63ms/sample - loss: 48.6642\n",
      "Epoch 2/50\n",
      "6/6 [==============================] - 0s 1ms/sample - loss: 38.6756\n",
      "Epoch 3/50\n",
      "6/6 [==============================] - 0s 1ms/sample - loss: 30.8091\n",
      "Epoch 4/50\n",
      "6/6 [==============================] - 0s 1ms/sample - loss: 24.6123\n",
      "Epoch 5/50\n",
      "6/6 [==============================] - 0s 1ms/sample - loss: 19.7292\n",
      "Epoch 6/50\n",
      "6/6 [==============================] - 0s 1ms/sample - loss: 15.8800\n",
      "Epoch 7/50\n",
      "6/6 [==============================] - 0s 1ms/sample - loss: 12.8442\n",
      "Epoch 8/50\n",
      "6/6 [==============================] - 0s 1ms/sample - loss: 10.4487\n",
      "Epoch 9/50\n",
      "6/6 [==============================] - 0s 1ms/sample - loss: 8.5569\n",
      "Epoch 10/50\n",
      "6/6 [==============================] - 0s 1ms/sample - loss: 7.0616\n",
      "Epoch 11/50\n",
      "6/6 [==============================] - 0s 1ms/sample - loss: 5.8784\n",
      "Epoch 12/50\n",
      "6/6 [==============================] - 0s 1ms/sample - loss: 4.9409\n",
      "Epoch 13/50\n",
      "6/6 [==============================] - 0s 1ms/sample - loss: 4.1969\n",
      "Epoch 14/50\n",
      "6/6 [==============================] - 0s 1ms/sample - loss: 3.6051\n",
      "Epoch 15/50\n",
      "6/6 [==============================] - 0s 1ms/sample - loss: 3.1333\n",
      "Epoch 16/50\n",
      "6/6 [==============================] - 0s 1ms/sample - loss: 2.7560\n",
      "Epoch 17/50\n",
      "6/6 [==============================] - 0s 1ms/sample - loss: 2.4532\n",
      "Epoch 18/50\n",
      "6/6 [==============================] - 0s 1ms/sample - loss: 2.2091\n",
      "Epoch 19/50\n",
      "6/6 [==============================] - 0s 1ms/sample - loss: 2.0114\n",
      "Epoch 20/50\n",
      "6/6 [==============================] - 0s 1ms/sample - loss: 1.8502\n",
      "Epoch 21/50\n",
      "6/6 [==============================] - 0s 1ms/sample - loss: 1.7178\n",
      "Epoch 22/50\n",
      "6/6 [==============================] - 0s 1ms/sample - loss: 1.6083\n",
      "Epoch 23/50\n",
      "6/6 [==============================] - 0s 1ms/sample - loss: 1.5169\n",
      "Epoch 24/50\n",
      "6/6 [==============================] - 0s 1ms/sample - loss: 1.4398\n",
      "Epoch 25/50\n",
      "6/6 [==============================] - 0s 1ms/sample - loss: 1.3741\n",
      "Epoch 26/50\n",
      "6/6 [==============================] - 0s 1ms/sample - loss: 1.3175\n",
      "Epoch 27/50\n",
      "6/6 [==============================] - 0s 1ms/sample - loss: 1.2680\n",
      "Epoch 28/50\n",
      "6/6 [==============================] - 0s 1ms/sample - loss: 1.2244\n",
      "Epoch 29/50\n",
      "6/6 [==============================] - 0s 2ms/sample - loss: 1.1854\n",
      "Epoch 30/50\n",
      "6/6 [==============================] - 0s 1ms/sample - loss: 1.1501\n",
      "Epoch 31/50\n",
      "6/6 [==============================] - 0s 1ms/sample - loss: 1.1180\n",
      "Epoch 32/50\n",
      "6/6 [==============================] - 0s 1ms/sample - loss: 1.0882\n",
      "Epoch 33/50\n",
      "6/6 [==============================] - 0s 1ms/sample - loss: 1.0606\n",
      "Epoch 34/50\n",
      "6/6 [==============================] - 0s 1ms/sample - loss: 1.0346\n",
      "Epoch 35/50\n",
      "6/6 [==============================] - 0s 1ms/sample - loss: 1.0101\n",
      "Epoch 36/50\n",
      "6/6 [==============================] - 0s 1ms/sample - loss: 0.9868\n",
      "Epoch 37/50\n",
      "6/6 [==============================] - 0s 1ms/sample - loss: 0.9645\n",
      "Epoch 38/50\n",
      "6/6 [==============================] - 0s 1ms/sample - loss: 0.9430\n",
      "Epoch 39/50\n",
      "6/6 [==============================] - 0s 1ms/sample - loss: 0.9224\n",
      "Epoch 40/50\n",
      "6/6 [==============================] - 0s 1ms/sample - loss: 0.9025\n",
      "Epoch 41/50\n",
      "6/6 [==============================] - 0s 1ms/sample - loss: 0.8832\n",
      "Epoch 42/50\n",
      "6/6 [==============================] - 0s 1ms/sample - loss: 0.8644\n",
      "Epoch 43/50\n",
      "6/6 [==============================] - 0s 1ms/sample - loss: 0.8462\n",
      "Epoch 44/50\n",
      "6/6 [==============================] - 0s 2ms/sample - loss: 0.8284\n",
      "Epoch 45/50\n",
      "6/6 [==============================] - 0s 1ms/sample - loss: 0.8111\n",
      "Epoch 46/50\n",
      "6/6 [==============================] - 0s 1ms/sample - loss: 0.7942\n",
      "Epoch 47/50\n",
      "6/6 [==============================] - 0s 1ms/sample - loss: 0.7777\n",
      "Epoch 48/50\n",
      "6/6 [==============================] - 0s 1ms/sample - loss: 0.7616\n",
      "Epoch 49/50\n",
      "6/6 [==============================] - 0s 1ms/sample - loss: 0.7458\n",
      "Epoch 50/50\n",
      "6/6 [==============================] - 0s 1ms/sample - loss: 0.7304\n"
     ]
    }
   ],
   "source": [
    "import tensorflow as tf\n",
    "\n",
    "# 创建一个简单的 Keras 模型。\n",
    "x = [-1, 0, 1, 2, 3, 4]\n",
    "y = [-3, -1, 1, 3, 5, 7]\n",
    "\n",
    "model = tf.keras.models.Sequential(\n",
    "    [tf.keras.layers.Dense(units=1, input_shape=[1])])\n",
    "model.compile(optimizer='sgd', loss='mean_squared_error')\n",
    "model.fit(x, y, epochs=50)\n",
    "\n",
    "# 转换模型。\n",
    "converter = tf.lite.TFLiteConverter.from_keras_model(model)\n",
    "tflite_model = converter.convert()"
   ]
  },
  {
   "cell_type": "code",
   "execution_count": 3,
   "metadata": {},
   "outputs": [
    {
     "data": {
      "text/plain": [
       "732"
      ]
     },
     "execution_count": 3,
     "metadata": {},
     "output_type": "execute_result"
    }
   ],
   "source": [
    "# save it \n",
    "open(\"keras_test_model.tflite\", \"wb\").write(tflite_model)"
   ]
  },
  {
   "cell_type": "code",
   "execution_count": null,
   "metadata": {},
   "outputs": [],
   "source": []
  }
 ],
 "metadata": {
  "kernelspec": {
   "display_name": "Python 3",
   "language": "python",
   "name": "python3"
  },
  "language_info": {
   "codemirror_mode": {
    "name": "ipython",
    "version": 3
   },
   "file_extension": ".py",
   "mimetype": "text/x-python",
   "name": "python",
   "nbconvert_exporter": "python",
   "pygments_lexer": "ipython3",
   "version": "3.7.0"
  }
 },
 "nbformat": 4,
 "nbformat_minor": 2
}
